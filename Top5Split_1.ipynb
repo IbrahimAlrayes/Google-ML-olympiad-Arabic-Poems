{
  "cells": [
    {
      "cell_type": "markdown",
      "metadata": {},
      "source": [
        "# Arabic Poems\n"
      ]
    },
    {
      "cell_type": "markdown",
      "metadata": {},
      "source": [
        "### Introduction"
      ]
    },
    {
      "cell_type": "markdown",
      "metadata": {},
      "source": [
        "Poetry is so influential because it helps us understand the culture of world around us and appreciate.\n",
        " Any language has poetry as part of its culture like Arabic."
      ]
    },
    {
      "cell_type": "markdown",
      "metadata": {},
      "source": [
        "Arabic is the official language of the 22 countries that form the Arab League. There are more than 400 million Arabic speakers across the world, though they predominantly live in the region stretching across the Middle East and North Africa. [1]"
      ]
    },
    {
      "cell_type": "markdown",
      "metadata": {},
      "source": [
        "### The problem"
      ]
    },
    {
      "cell_type": "markdown",
      "metadata": {},
      "source": [
        "We need a model that can predict the poet's name for a poem"
      ]
    },
    {
      "cell_type": "markdown",
      "metadata": {},
      "source": [
        "### Swag prizes"
      ]
    },
    {
      "cell_type": "markdown",
      "metadata": {},
      "source": [
        "Swag prizes for top winners are sponsored by Google Developers. The number of\n",
        "team members are limited to 3.\n",
        "Share your progress using this hashtag on Twitter : #MLOlympiad"
      ]
    },
    {
      "cell_type": "markdown",
      "metadata": {},
      "source": [
        "### There are some restrictions."
      ]
    },
    {
      "cell_type": "markdown",
      "metadata": {},
      "source": [
        "Google doesn't support competitions in Crimea, North Korea, Quebec, and where prohibited by law.\n",
        "This program follows Google Coding Competitions Terms, for more details see:\n",
        "https://codingcompetitions.withgoogle.com/terms."
      ]
    },
    {
      "cell_type": "markdown",
      "metadata": {},
      "source": [
        "Swag deliveries can be delayed in some regions due to COVID-19."
      ]
    },
    {
      "cell_type": "code",
      "execution_count": 1,
      "metadata": {
        "colab": {
          "base_uri": "https://localhost:8080/",
          "height": 204
        },
        "id": "AauiY1oF8f9H",
        "outputId": "08f23ac6-029d-4572-8d99-c2847ec5bfc4"
      },
      "outputs": [
        {
          "data": {
            "text/html": [
              "<div>\n",
              "<style scoped>\n",
              "    .dataframe tbody tr th:only-of-type {\n",
              "        vertical-align: middle;\n",
              "    }\n",
              "\n",
              "    .dataframe tbody tr th {\n",
              "        vertical-align: top;\n",
              "    }\n",
              "\n",
              "    .dataframe thead th {\n",
              "        text-align: right;\n",
              "    }\n",
              "</style>\n",
              "<table border=\"1\" class=\"dataframe\">\n",
              "  <thead>\n",
              "    <tr style=\"text-align: right;\">\n",
              "      <th></th>\n",
              "      <th>poem_id</th>\n",
              "      <th>poem_text</th>\n",
              "      <th>poem_title</th>\n",
              "      <th>poet_cat</th>\n",
              "      <th>poet_id</th>\n",
              "      <th>poet_name</th>\n",
              "    </tr>\n",
              "  </thead>\n",
              "  <tbody>\n",
              "    <tr>\n",
              "      <th>0</th>\n",
              "      <td>21</td>\n",
              "      <td>عيناك غابتا نخيل ساعة السحر او شرفتان راح يناي...</td>\n",
              "      <td>أنشودة المطر</td>\n",
              "      <td>العراق</td>\n",
              "      <td>2</td>\n",
              "      <td>بدر شاكر السياب</td>\n",
              "    </tr>\n",
              "    <tr>\n",
              "      <th>1</th>\n",
              "      <td>65546</td>\n",
              "      <td>انا لا ازال و في يدي قدحي ياليل اين تفرق الشر...</td>\n",
              "      <td>أقداح و أحلام</td>\n",
              "      <td>العراق</td>\n",
              "      <td>2</td>\n",
              "      <td>بدر شاكر السياب</td>\n",
              "    </tr>\n",
              "    <tr>\n",
              "      <th>2</th>\n",
              "      <td>65561</td>\n",
              "      <td>علي مقلتيك ارتشفت النجوم وعانقت امالي الايبة ...</td>\n",
              "      <td>هوى واحد !</td>\n",
              "      <td>العراق</td>\n",
              "      <td>2</td>\n",
              "      <td>بدر شاكر السياب</td>\n",
              "    </tr>\n",
              "    <tr>\n",
              "      <th>3</th>\n",
              "      <td>65554</td>\n",
              "      <td>اساطير من حشرجات الزمان نسيج اليد البالية رواه...</td>\n",
              "      <td>أساطير</td>\n",
              "      <td>العراق</td>\n",
              "      <td>2</td>\n",
              "      <td>بدر شاكر السياب</td>\n",
              "    </tr>\n",
              "    <tr>\n",
              "      <th>4</th>\n",
              "      <td>65550</td>\n",
              "      <td>والتف حولك ساعداي ومال جيدك في اشتهاء كالزهرة ...</td>\n",
              "      <td>اللقاء الأخير</td>\n",
              "      <td>العراق</td>\n",
              "      <td>2</td>\n",
              "      <td>بدر شاكر السياب</td>\n",
              "    </tr>\n",
              "  </tbody>\n",
              "</table>\n",
              "</div>"
            ],
            "text/plain": [
              "   poem_id                                          poem_text      poem_title  \\\n",
              "0       21  عيناك غابتا نخيل ساعة السحر او شرفتان راح يناي...   أنشودة المطر    \n",
              "1    65546   انا لا ازال و في يدي قدحي ياليل اين تفرق الشر...  أقداح و أحلام    \n",
              "2    65561   علي مقلتيك ارتشفت النجوم وعانقت امالي الايبة ...     هوى واحد !    \n",
              "3    65554  اساطير من حشرجات الزمان نسيج اليد البالية رواه...         أساطير    \n",
              "4    65550  والتف حولك ساعداي ومال جيدك في اشتهاء كالزهرة ...  اللقاء الأخير    \n",
              "\n",
              "  poet_cat  poet_id        poet_name  \n",
              "0   العراق        2  بدر شاكر السياب  \n",
              "1   العراق        2  بدر شاكر السياب  \n",
              "2   العراق        2  بدر شاكر السياب  \n",
              "3   العراق        2  بدر شاكر السياب  \n",
              "4   العراق        2  بدر شاكر السياب  "
            ]
          },
          "execution_count": 1,
          "metadata": {},
          "output_type": "execute_result"
        }
      ],
      "source": [
        "import pandas as pd\n",
        "import matplotlib.pyplot as plt\n",
        "%matplotlib inline\n",
        "\n",
        "df = pd.read_csv(\"new_poems_withallpotes.csv\")\n",
        "df.head(5)"
      ]
    },
    {
      "cell_type": "code",
      "execution_count": 2,
      "metadata": {
        "colab": {
          "base_uri": "https://localhost:8080/",
          "height": 402
        },
        "id": "RSxrHRbI8lmz",
        "outputId": "7743d924-187c-4ad5-e5fc-9e00b621e395"
      },
      "outputs": [
        {
          "data": {
            "text/plain": [
              "<AxesSubplot:xlabel='Poet Name'>"
            ]
          },
          "execution_count": 2,
          "metadata": {},
          "output_type": "execute_result"
        },
        {
          "data": {
            "image/png": "[encoded data removed]",
            "text/plain": [
              "<Figure size 432x288 with 1 Axes>"
            ]
          },
          "metadata": {
            "needs_background": "light"
          },
          "output_type": "display_data"
        }
      ],
      "source": [
        "# present new data of poet name column for the top 10 \n",
        "df['poet_name'].value_counts()[:10].plot(kind='bar', xlabel= 'Poet Name')"
      ]
    },
    {
      "cell_type": "code",
      "execution_count": 3,
      "metadata": {
        "colab": {
          "base_uri": "https://localhost:8080/"
        },
        "id": "ymKfAOw88ykw",
        "outputId": "787c1789-46b6-4f95-fbce-4a3382fa3c0e"
      },
      "outputs": [
        {
          "data": {
            "text/plain": [
              "ابن الرومي            2134\n",
              "أبوالعلاء المعري      1593\n",
              "ابن نباتة المصري      1534\n",
              "جبران خليل جبران      1148\n",
              "عبد الغني النابلسي    1114\n",
              "                      ... \n",
              "دوقلة المنبجي            1\n",
              "الحصري القيرواني         1\n",
              "حمزة شحاته               1\n",
              "عبيد بن الأبرص           1\n",
              "صلاح نيازي               1\n",
              "Name: poet_name, Length: 651, dtype: int64"
            ]
          },
          "execution_count": 3,
          "metadata": {},
          "output_type": "execute_result"
        }
      ],
      "source": [
        "poet_counts = df['poet_name'].value_counts()\n",
        "poet_counts "
      ]
    },
    {
      "cell_type": "code",
      "execution_count": 4,
      "metadata": {
        "colab": {
          "base_uri": "https://localhost:8080/"
        },
        "id": "dulOeYok8z9Q",
        "outputId": "c19bd998-2048-4b37-a5ed-9f8987d090b0"
      },
      "outputs": [
        {
          "data": {
            "text/plain": [
              "5"
            ]
          },
          "execution_count": 4,
          "metadata": {},
          "output_type": "execute_result"
        }
      ],
      "source": [
        "#copy rows of only poets with equal or greater than 1000 poems\n",
        "top5_df = df.loc[df['poet_name'].isin(poet_counts.index[poet_counts >= 1000])]\n",
        "#number of final poets\n",
        "len(top5_df.poet_name.unique())"
      ]
    },
    {
      "cell_type": "code",
      "execution_count": 5,
      "metadata": {
        "colab": {
          "base_uri": "https://localhost:8080/"
        },
        "id": "JMWuYbKB8_z8",
        "outputId": "e21dec23-4979-4dad-fb55-09cda1f410f0"
      },
      "outputs": [
        {
          "data": {
            "text/plain": [
              "array(['أبوالعلاء المعري', 'ابن الرومي', 'ابن نباتة المصري',\n",
              "       'جبران خليل جبران', 'عبد الغني النابلسي'], dtype=object)"
            ]
          },
          "execution_count": 5,
          "metadata": {},
          "output_type": "execute_result"
        }
      ],
      "source": [
        "top5_df.poet_name.unique()"
      ]
    },
    {
      "cell_type": "code",
      "execution_count": 6,
      "metadata": {
        "id": "MJpSFI_39C0N"
      },
      "outputs": [],
      "source": [
        "top5_df.to_csv('new_poems_5top_v2.csv', index = False) #version 3: cleaned data set with 5 poets (who has more than 1000 poem)\n"
      ]
    }
  ],
  "metadata": {
    "colab": {
      "name": "Top5Split",
      "provenance": []
    },
    "kernelspec": {
      "display_name": "Python 3",
      "name": "python3"
    },
    "language_info": {
      "codemirror_mode": {
        "name": "ipython",
        "version": 3
      },
      "file_extension": ".py",
      "mimetype": "text/x-python",
      "name": "python",
      "nbconvert_exporter": "python",
      "pygments_lexer": "ipython3",
      "version": "3.9.7"
    }
  },
  "nbformat": 4,
  "nbformat_minor": 0
}
