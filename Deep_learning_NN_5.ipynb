{
 "cells": [
  {
   "cell_type": "code",
   "execution_count": 16,
   "metadata": {},
   "outputs": [],
   "source": [
    "import numpy as np \n",
    "import pandas as pd\n",
    "import tensorflow as tf \n",
    "from tensorflow import keras \n",
    "from tensorflow.keras.preprocessing.text import text_to_word_sequence\n",
    "from tensorflow.keras.preprocessing.text import Tokenizer \n",
    "from tensorflow.keras.preprocessing.sequence import pad_sequences\n",
    "from sklearn.model_selection import train_test_split\n",
    "from collections import Counter \n",
    "import matplotlib.pyplot as plt\n"
   ]
  },
  {
   "cell_type": "code",
   "execution_count": 17,
   "metadata": {},
   "outputs": [],
   "source": [
    "def joining(arr):\n",
    "    return ' '.join(arr)\n",
    "\n",
    "def counter(poets):\n",
    "    count = Counter()\n",
    "    for text in poets.values:\n",
    "        for w in text.split():\n",
    "            count[w] += 1\n",
    "    return count\n",
    "def labling(dataframe):\n",
    "    labels = []\n",
    "    id = dataframe['poet_id'].to_numpy()\n",
    "    unique_id = np.unique(id)\n",
    "    for i in id:\n",
    "        for j in range(len(unique_id)):\n",
    "            if i == unique_id[j]:\n",
    "                labels.append(j)\n",
    "\n",
    "    return np.array(labels)\n"
   ]
  },
  {
   "cell_type": "markdown",
   "metadata": {},
   "source": [
    "# prepering files\n",
    "getting number of words"
   ]
  },
  {
   "cell_type": "code",
   "execution_count": 18,
   "metadata": {},
   "outputs": [
    {
     "name": "stdout",
     "output_type": "stream",
     "text": [
      "number of poems:  7523\n",
      "number of poets:  5\n"
     ]
    }
   ],
   "source": [
    "df = pd.read_csv('new_poems_5top_CNS2.csv')\n",
    "poem_text = df['poem_text'].to_numpy()\n",
    "words_in_text = counter(df.poem_text) # counting number of words\n",
    "train_label = labling(df)\n",
    "\n",
    "classes_number = len(np.unique(train_label))\n",
    "\n",
    "print(\"number of poems: \",len(poem_text))\n",
    "print(\"number of poets: \", classes_number)\n",
    "\n",
    "train_data, test_data, train_label, test_labes = train_test_split(poem_text, train_label, train_size=0.8)\n",
    "classes_number = len(np.unique(train_label))\n",
    "\n",
    "dim_number = 21\n",
    "words_number = int(len(words_in_text)) # length of words"
   ]
  },
  {
   "cell_type": "markdown",
   "metadata": {},
   "source": [
    "# Tokenizing And Padding"
   ]
  },
  {
   "cell_type": "code",
   "execution_count": 19,
   "metadata": {},
   "outputs": [],
   "source": [
    "tokenizer = Tokenizer(num_words=words_number, oov_token='<OOV>', lower=False)\n",
    "tokenizer.fit_on_texts(train_data)\n",
    "word_index = tokenizer.word_index\n",
    "    \n",
    "train_data = tokenizer.texts_to_sequences(train_data)\n",
    "test_data = tokenizer.texts_to_sequences(test_data)\n",
    "\n",
    "train_data = pad_sequences(train_data, padding='post', maxlen=500) \n",
    "test_data = pad_sequences(test_data, padding='post', maxlen=500) \n"
   ]
  },
  {
   "cell_type": "code",
   "execution_count": 60,
   "metadata": {},
   "outputs": [],
   "source": [
    "model = keras.Sequential()\n",
    "model.add(keras.layers.Embedding(words_number, dim_number))\n",
    "#model.add(keras.layers.Bidirectional(tf.keras.layers.LSTM(128)))\n",
    "model.add(keras.layers.GlobalAveragePooling1D())\n",
    "model.add(keras.layers.Dense(dim_number, activation='relu'))\n",
    "model.add(keras.layers.Dropout(0.2))\n",
    "model.add(keras.layers.Dense(classes_number, activation='softmax'))"
   ]
  },
  {
   "cell_type": "code",
   "execution_count": 61,
   "metadata": {},
   "outputs": [
    {
     "name": "stdout",
     "output_type": "stream",
     "text": [
      "Model: \"sequential_9\"\n",
      "_________________________________________________________________\n",
      " Layer (type)                Output Shape              Param #   \n",
      "=================================================================\n",
      " embedding_9 (Embedding)     (None, None, 21)          2146179   \n",
      "                                                                 \n",
      " global_average_pooling1d_9   (None, 21)               0         \n",
      " (GlobalAveragePooling1D)                                        \n",
      "                                                                 \n",
      " dense_18 (Dense)            (None, 21)                462       \n",
      "                                                                 \n",
      " dropout_9 (Dropout)         (None, 21)                0         \n",
      "                                                                 \n",
      " dense_19 (Dense)            (None, 5)                 110       \n",
      "                                                                 \n",
      "=================================================================\n",
      "Total params: 2,146,751\n",
      "Trainable params: 2,146,751\n",
      "Non-trainable params: 0\n",
      "_________________________________________________________________\n",
      "None\n"
     ]
    }
   ],
   "source": [
    "print(model.summary())\n",
    "model.compile(optimizer=tf.keras.optimizers.Adam(), loss='sparse_categorical_crossentropy', metrics=['accuracy'])    "
   ]
  },
  {
   "cell_type": "code",
   "execution_count": 62,
   "metadata": {},
   "outputs": [
    {
     "name": "stdout",
     "output_type": "stream",
     "text": [
      "Epoch 1/9\n",
      "602/602 - 24s - loss: 1.5757 - accuracy: 0.2828 - val_loss: 1.5463 - val_accuracy: 0.2837 - 24s/epoch - 39ms/step\n",
      "Epoch 2/9\n",
      "602/602 - 20s - loss: 1.4641 - accuracy: 0.3433 - val_loss: 1.3634 - val_accuracy: 0.3987 - 20s/epoch - 33ms/step\n",
      "Epoch 3/9\n",
      "602/602 - 20s - loss: 1.1905 - accuracy: 0.4937 - val_loss: 1.1487 - val_accuracy: 0.5223 - 20s/epoch - 33ms/step\n",
      "Epoch 4/9\n",
      "602/602 - 18s - loss: 0.9579 - accuracy: 0.6499 - val_loss: 0.9898 - val_accuracy: 0.5668 - 18s/epoch - 31ms/step\n",
      "Epoch 5/9\n",
      "602/602 - 18s - loss: 0.7815 - accuracy: 0.7478 - val_loss: 0.8776 - val_accuracy: 0.6246 - 18s/epoch - 30ms/step\n",
      "Epoch 6/9\n",
      "602/602 - 18s - loss: 0.6105 - accuracy: 0.8411 - val_loss: 0.7530 - val_accuracy: 0.7482 - 18s/epoch - 30ms/step\n",
      "Epoch 7/9\n",
      "602/602 - 17s - loss: 0.4675 - accuracy: 0.8842 - val_loss: 0.6707 - val_accuracy: 0.7628 - 17s/epoch - 29ms/step\n",
      "Epoch 8/9\n",
      "602/602 - 18s - loss: 0.3569 - accuracy: 0.9156 - val_loss: 0.6158 - val_accuracy: 0.7601 - 18s/epoch - 29ms/step\n",
      "Epoch 9/9\n",
      "602/602 - 19s - loss: 0.2819 - accuracy: 0.9315 - val_loss: 0.5674 - val_accuracy: 0.7860 - 19s/epoch - 31ms/step\n"
     ]
    }
   ],
   "source": [
    "history = model.fit(x=train_data, y=train_label, validation_data=(test_data, test_labes), batch_size = 10, epochs = 9 , shuffle = True, verbose = 2)\n"
   ]
  },
  {
   "cell_type": "code",
   "execution_count": 63,
   "metadata": {},
   "outputs": [
    {
     "data": {
      "image/png": "[encoded data removed]",
      "text/plain": [
       "<Figure size 432x288 with 1 Axes>"
      ]
     },
     "metadata": {
      "needs_background": "light"
     },
     "output_type": "display_data"
    }
   ],
   "source": [
    "plt.plot(history.history['accuracy'])\n",
    "plt.plot(history.history['val_accuracy'])\n",
    "plt.title('model accuracy')\n",
    "plt.ylabel('accuracy')\n",
    "plt.xlabel('epoch')\n",
    "plt.legend(['train', 'test'], loc='upper left')\n",
    "plt.show()"
   ]
  },
  {
   "cell_type": "code",
   "execution_count": 64,
   "metadata": {},
   "outputs": [
    {
     "data": {
      "image/png": "[encoded data removed]",
      "text/plain": [
       "<Figure size 432x288 with 1 Axes>"
      ]
     },
     "metadata": {
      "needs_background": "light"
     },
     "output_type": "display_data"
    }
   ],
   "source": [
    "# summarize history for loss\n",
    "plt.plot(history.history['loss'])\n",
    "plt.plot(history.history['val_loss'])\n",
    "plt.title('model loss')\n",
    "plt.ylabel('loss')\n",
    "plt.xlabel('epoch')\n",
    "plt.legend(['train', 'test'], loc='upper left')\n",
    "plt.show()"
   ]
  }
 ],
 "metadata": {
  "interpreter": {
   "hash": "b9470387bd7861b92bcbc68b062815e0c4fc3bdc406906d5b9c21d246c0fe24c"
  },
  "kernelspec": {
   "display_name": "Python 3.10.1 64-bit",
   "language": "python",
   "name": "python3"
  },
  "language_info": {
   "codemirror_mode": {
    "name": "ipython",
    "version": 3
   },
   "file_extension": ".py",
   "mimetype": "text/x-python",
   "name": "python",
   "nbconvert_exporter": "python",
   "pygments_lexer": "ipython3",
   "version": "3.9.7"
  },
  "orig_nbformat": 4
 },
 "nbformat": 4,
 "nbformat_minor": 2
}
