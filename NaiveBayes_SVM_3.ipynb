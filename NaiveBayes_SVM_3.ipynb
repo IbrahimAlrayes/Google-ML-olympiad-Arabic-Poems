{
  "cells": [
    {
      "cell_type": "code",
      "execution_count": 4,
      "metadata": {
        "colab": {
          "base_uri": "https://localhost:8080/",
          "height": 204
        },
        "id": "GwChY5HR1aYW",
        "outputId": "994b3b36-ff0d-4b6d-e7c9-e8350b6ad9ab"
      },
      "outputs": [
        {
          "data": {
            "text/html": [
              "<div>\n",
              "<style scoped>\n",
              "    .dataframe tbody tr th:only-of-type {\n",
              "        vertical-align: middle;\n",
              "    }\n",
              "\n",
              "    .dataframe tbody tr th {\n",
              "        vertical-align: top;\n",
              "    }\n",
              "\n",
              "    .dataframe thead th {\n",
              "        text-align: right;\n",
              "    }\n",
              "</style>\n",
              "<table border=\"1\" class=\"dataframe\">\n",
              "  <thead>\n",
              "    <tr style=\"text-align: right;\">\n",
              "      <th></th>\n",
              "      <th>poem_id</th>\n",
              "      <th>poem_text</th>\n",
              "      <th>poem_title</th>\n",
              "      <th>poet_cat</th>\n",
              "      <th>poet_id</th>\n",
              "      <th>poet_name</th>\n",
              "    </tr>\n",
              "  </thead>\n",
              "  <tbody>\n",
              "    <tr>\n",
              "      <th>0</th>\n",
              "      <td>3878</td>\n",
              "      <td>اياك خمر فهي خالبه غالبه خاب غلب خابيه راح ناق...</td>\n",
              "      <td>إيّاكَ والخمرَ، فهي خالبةٌ،</td>\n",
              "      <td>العصر العباسي</td>\n",
              "      <td>117</td>\n",
              "      <td>أبوالعلاء المعري</td>\n",
              "    </tr>\n",
              "    <tr>\n",
              "      <th>1</th>\n",
              "      <td>3879</td>\n",
              "      <td>ان اقيم بلد اذكر بغير يجب يظن يسر ديانه والعل ...</td>\n",
              "      <td>من ليَ أن أقيمَ في بلدٍ،</td>\n",
              "      <td>العصر العباسي</td>\n",
              "      <td>117</td>\n",
              "      <td>أبوالعلاء المعري</td>\n",
              "    </tr>\n",
              "    <tr>\n",
              "      <th>2</th>\n",
              "      <td>3880</td>\n",
              "      <td>ثريا عنقود كرم ملاح اليل يانع غربيب وناي مدامه...</td>\n",
              "      <td>ما الثريّا عنقودُ كرمٍ مُلاحـ</td>\n",
              "      <td>العصر العباسي</td>\n",
              "      <td>117</td>\n",
              "      <td>أبوالعلاء المعري</td>\n",
              "    </tr>\n",
              "    <tr>\n",
              "      <th>3</th>\n",
              "      <td>3881</td>\n",
              "      <td>اطل صليب دلو نجومه يكف رجالا عبادت صلبا فرب ال...</td>\n",
              "      <td>أطلّ صليبُ الدّلو، بين نجومِه،</td>\n",
              "      <td>العصر العباسي</td>\n",
              "      <td>117</td>\n",
              "      <td>أبوالعلاء المعري</td>\n",
              "    </tr>\n",
              "    <tr>\n",
              "      <th>4</th>\n",
              "      <td>3882</td>\n",
              "      <td>رايت قضاء اله اوجب خلقه وعاد علي تصرفه سلبا وق...</td>\n",
              "      <td>رأيتُ قضاءَ اللَّه أوجَبَ خلْقَهُ،</td>\n",
              "      <td>العصر العباسي</td>\n",
              "      <td>117</td>\n",
              "      <td>أبوالعلاء المعري</td>\n",
              "    </tr>\n",
              "  </tbody>\n",
              "</table>\n",
              "</div>"
            ],
            "text/plain": [
              "   poem_id                                          poem_text  \\\n",
              "0     3878  اياك خمر فهي خالبه غالبه خاب غلب خابيه راح ناق...   \n",
              "1     3879  ان اقيم بلد اذكر بغير يجب يظن يسر ديانه والعل ...   \n",
              "2     3880  ثريا عنقود كرم ملاح اليل يانع غربيب وناي مدامه...   \n",
              "3     3881  اطل صليب دلو نجومه يكف رجالا عبادت صلبا فرب ال...   \n",
              "4     3882  رايت قضاء اله اوجب خلقه وعاد علي تصرفه سلبا وق...   \n",
              "\n",
              "                            poem_title       poet_cat  poet_id  \\\n",
              "0         إيّاكَ والخمرَ، فهي خالبةٌ،   العصر العباسي      117   \n",
              "1            من ليَ أن أقيمَ في بلدٍ،   العصر العباسي      117   \n",
              "2       ما الثريّا عنقودُ كرمٍ مُلاحـ   العصر العباسي      117   \n",
              "3      أطلّ صليبُ الدّلو، بين نجومِه،   العصر العباسي      117   \n",
              "4  رأيتُ قضاءَ اللَّه أوجَبَ خلْقَهُ،   العصر العباسي      117   \n",
              "\n",
              "          poet_name  \n",
              "0  أبوالعلاء المعري  \n",
              "1  أبوالعلاء المعري  \n",
              "2  أبوالعلاء المعري  \n",
              "3  أبوالعلاء المعري  \n",
              "4  أبوالعلاء المعري  "
            ]
          },
          "execution_count": 4,
          "metadata": {},
          "output_type": "execute_result"
        }
      ],
      "source": [
        "import pandas as pd\n",
        "import matplotlib.pyplot as plt\n",
        "%matplotlib inline\n",
        "\n",
        "df = pd.read_csv(\"new_poems_5top_CNS2.csv\")\n",
        "df.head(5)"
      ]
    },
    {
      "cell_type": "code",
      "execution_count": 5,
      "metadata": {
        "id": "HQy6_C1_EAl-"
      },
      "outputs": [
        {
          "data": {
            "text/plain": [
              "\"'\\nTo Balanced Classes\\n\""
            ]
          },
          "execution_count": 5,
          "metadata": {},
          "output_type": "execute_result"
        }
      ],
      "source": [
        "''''\n",
        "To Balanced Classes\n",
        "'''''"
      ]
    },
    {
      "cell_type": "code",
      "execution_count": 6,
      "metadata": {
        "colab": {
          "base_uri": "https://localhost:8080/",
          "height": 204
        },
        "id": "fUWKYsHj2zyW",
        "outputId": "87938db6-3923-4c14-d94d-a399fff62394"
      },
      "outputs": [
        {
          "data": {
            "text/html": [
              "<div>\n",
              "<style scoped>\n",
              "    .dataframe tbody tr th:only-of-type {\n",
              "        vertical-align: middle;\n",
              "    }\n",
              "\n",
              "    .dataframe tbody tr th {\n",
              "        vertical-align: top;\n",
              "    }\n",
              "\n",
              "    .dataframe thead th {\n",
              "        text-align: right;\n",
              "    }\n",
              "</style>\n",
              "<table border=\"1\" class=\"dataframe\">\n",
              "  <thead>\n",
              "    <tr style=\"text-align: right;\">\n",
              "      <th></th>\n",
              "      <th>poet_name</th>\n",
              "      <th>Poem_Count</th>\n",
              "    </tr>\n",
              "  </thead>\n",
              "  <tbody>\n",
              "    <tr>\n",
              "      <th>0</th>\n",
              "      <td>أبوالعلاء المعري</td>\n",
              "      <td>1593</td>\n",
              "    </tr>\n",
              "    <tr>\n",
              "      <th>1</th>\n",
              "      <td>ابن الرومي</td>\n",
              "      <td>2134</td>\n",
              "    </tr>\n",
              "    <tr>\n",
              "      <th>2</th>\n",
              "      <td>ابن نباتة المصري</td>\n",
              "      <td>1534</td>\n",
              "    </tr>\n",
              "    <tr>\n",
              "      <th>3</th>\n",
              "      <td>جبران خليل جبران</td>\n",
              "      <td>1148</td>\n",
              "    </tr>\n",
              "    <tr>\n",
              "      <th>4</th>\n",
              "      <td>عبد الغني النابلسي</td>\n",
              "      <td>1114</td>\n",
              "    </tr>\n",
              "  </tbody>\n",
              "</table>\n",
              "</div>"
            ],
            "text/plain": [
              "            poet_name  Poem_Count\n",
              "0    أبوالعلاء المعري        1593\n",
              "1          ابن الرومي        2134\n",
              "2    ابن نباتة المصري        1534\n",
              "3    جبران خليل جبران        1148\n",
              "4  عبد الغني النابلسي        1114"
            ]
          },
          "execution_count": 6,
          "metadata": {},
          "output_type": "execute_result"
        }
      ],
      "source": [
        "df.groupby(['poet_name']).agg(\n",
        "     Poem_Count = ('poem_text','count'),\n",
        "     ).reset_index()"
      ]
    },
    {
      "cell_type": "code",
      "execution_count": 7,
      "metadata": {
        "id": "c5mFzPdL3GOt"
      },
      "outputs": [],
      "source": [
        "df_A = df[df['poet_id'] == 117].sample(n=1114)\n",
        "df_B = df[df['poet_id'] == 173].sample(n=1114)\n",
        "df_C = df[df['poet_id'] == 247].sample(n=1114)\n",
        "df_D = df[df['poet_id'] == 263].sample(n=1114)\n",
        "df_E = df[df['poet_id'] == 195].sample(n=1114)\n"
      ]
    },
    {
      "cell_type": "code",
      "execution_count": 8,
      "metadata": {
        "id": "-xjEL0PK5gnM"
      },
      "outputs": [],
      "source": [
        "pd_list = [df_A,df_B,df_C,df_D,df_E]\n",
        "new_df= pd.concat(pd_list)"
      ]
    },
    {
      "cell_type": "code",
      "execution_count": 9,
      "metadata": {
        "colab": {
          "base_uri": "https://localhost:8080/",
          "height": 204
        },
        "id": "T7Ey7vJn54N7",
        "outputId": "96afba19-f637-4727-9324-080ca3fa5c46"
      },
      "outputs": [
        {
          "data": {
            "text/html": [
              "<div>\n",
              "<style scoped>\n",
              "    .dataframe tbody tr th:only-of-type {\n",
              "        vertical-align: middle;\n",
              "    }\n",
              "\n",
              "    .dataframe tbody tr th {\n",
              "        vertical-align: top;\n",
              "    }\n",
              "\n",
              "    .dataframe thead th {\n",
              "        text-align: right;\n",
              "    }\n",
              "</style>\n",
              "<table border=\"1\" class=\"dataframe\">\n",
              "  <thead>\n",
              "    <tr style=\"text-align: right;\">\n",
              "      <th></th>\n",
              "      <th>poet_name</th>\n",
              "      <th>Poem_Count</th>\n",
              "    </tr>\n",
              "  </thead>\n",
              "  <tbody>\n",
              "    <tr>\n",
              "      <th>0</th>\n",
              "      <td>أبوالعلاء المعري</td>\n",
              "      <td>1114</td>\n",
              "    </tr>\n",
              "    <tr>\n",
              "      <th>1</th>\n",
              "      <td>ابن الرومي</td>\n",
              "      <td>1114</td>\n",
              "    </tr>\n",
              "    <tr>\n",
              "      <th>2</th>\n",
              "      <td>ابن نباتة المصري</td>\n",
              "      <td>1114</td>\n",
              "    </tr>\n",
              "    <tr>\n",
              "      <th>3</th>\n",
              "      <td>جبران خليل جبران</td>\n",
              "      <td>1114</td>\n",
              "    </tr>\n",
              "    <tr>\n",
              "      <th>4</th>\n",
              "      <td>عبد الغني النابلسي</td>\n",
              "      <td>1114</td>\n",
              "    </tr>\n",
              "  </tbody>\n",
              "</table>\n",
              "</div>"
            ],
            "text/plain": [
              "            poet_name  Poem_Count\n",
              "0    أبوالعلاء المعري        1114\n",
              "1          ابن الرومي        1114\n",
              "2    ابن نباتة المصري        1114\n",
              "3    جبران خليل جبران        1114\n",
              "4  عبد الغني النابلسي        1114"
            ]
          },
          "execution_count": 9,
          "metadata": {},
          "output_type": "execute_result"
        }
      ],
      "source": [
        "new_df.groupby(['poet_name']).agg(\n",
        "     Poem_Count = ('poem_text','count'),\n",
        "     ).reset_index()"
      ]
    },
    {
      "cell_type": "code",
      "execution_count": 19,
      "metadata": {
        "colab": {
          "base_uri": "https://localhost:8080/",
          "height": 204
        },
        "id": "EzQOD6308hB2",
        "outputId": "c730cb6c-a471-4bc5-f68d-a39a1eff47c9"
      },
      "outputs": [
        {
          "data": {
            "text/html": [
              "<div>\n",
              "<style scoped>\n",
              "    .dataframe tbody tr th:only-of-type {\n",
              "        vertical-align: middle;\n",
              "    }\n",
              "\n",
              "    .dataframe tbody tr th {\n",
              "        vertical-align: top;\n",
              "    }\n",
              "\n",
              "    .dataframe thead th {\n",
              "        text-align: right;\n",
              "    }\n",
              "</style>\n",
              "<table border=\"1\" class=\"dataframe\">\n",
              "  <thead>\n",
              "    <tr style=\"text-align: right;\">\n",
              "      <th></th>\n",
              "      <th>poem_id</th>\n",
              "      <th>poem_text</th>\n",
              "      <th>poem_title</th>\n",
              "      <th>poet_cat</th>\n",
              "      <th>poet_id</th>\n",
              "      <th>poet_name</th>\n",
              "      <th>label</th>\n",
              "    </tr>\n",
              "  </thead>\n",
              "  <tbody>\n",
              "    <tr>\n",
              "      <th>7418</th>\n",
              "      <td>62865</td>\n",
              "      <td>امر الهي كانا بيب مياه صور خلق لانتباه فاذا عن...</td>\n",
              "      <td>نحن بالأمر الإلهي</td>\n",
              "      <td>سوريا</td>\n",
              "      <td>263</td>\n",
              "      <td>عبد الغني النابلسي</td>\n",
              "      <td>3</td>\n",
              "    </tr>\n",
              "    <tr>\n",
              "      <th>6455</th>\n",
              "      <td>56316</td>\n",
              "      <td>يعرف قلبه يغرف بحار علم جهله يصرف كاسه ملان را...</td>\n",
              "      <td>كل من يعرف</td>\n",
              "      <td>سوريا</td>\n",
              "      <td>263</td>\n",
              "      <td>عبد الغني النابلسي</td>\n",
              "      <td>3</td>\n",
              "    </tr>\n",
              "    <tr>\n",
              "      <th>7404</th>\n",
              "      <td>62851</td>\n",
              "      <td>معا وجود ونحن عنه كنطق وماله عز مثيل وماله جل ...</td>\n",
              "      <td>نحن معاني الوجود فيه</td>\n",
              "      <td>سوريا</td>\n",
              "      <td>263</td>\n",
              "      <td>عبد الغني النابلسي</td>\n",
              "      <td>3</td>\n",
              "    </tr>\n",
              "    <tr>\n",
              "      <th>6092</th>\n",
              "      <td>53979</td>\n",
              "      <td>رافه دعاه كرام فل حدي وقد يفل حسامفيم تستنشدو ...</td>\n",
              "      <td>رأفة بها الدعاة الكرام</td>\n",
              "      <td>لبنان</td>\n",
              "      <td>247</td>\n",
              "      <td>جبران خليل جبران</td>\n",
              "      <td>2</td>\n",
              "    </tr>\n",
              "    <tr>\n",
              "      <th>990</th>\n",
              "      <td>4795</td>\n",
              "      <td>انافق حياه كفعل غيري وكل ناس شان نفاق اعل مهجت...</td>\n",
              "      <td>أُنافقُ في الحياةِ، كفِعلِ غَيري،</td>\n",
              "      <td>العصر العباسي</td>\n",
              "      <td>117</td>\n",
              "      <td>أبوالعلاء المعري</td>\n",
              "      <td>0</td>\n",
              "    </tr>\n",
              "  </tbody>\n",
              "</table>\n",
              "</div>"
            ],
            "text/plain": [
              "      poem_id                                          poem_text  \\\n",
              "7418    62865  امر الهي كانا بيب مياه صور خلق لانتباه فاذا عن...   \n",
              "6455    56316  يعرف قلبه يغرف بحار علم جهله يصرف كاسه ملان را...   \n",
              "7404    62851  معا وجود ونحن عنه كنطق وماله عز مثيل وماله جل ...   \n",
              "6092    53979  رافه دعاه كرام فل حدي وقد يفل حسامفيم تستنشدو ...   \n",
              "990      4795  انافق حياه كفعل غيري وكل ناس شان نفاق اعل مهجت...   \n",
              "\n",
              "                              poem_title       poet_cat  poet_id  \\\n",
              "7418                  نحن بالأمر الإلهي           سوريا      263   \n",
              "6455                         كل من يعرف           سوريا      263   \n",
              "7404               نحن معاني الوجود فيه           سوريا      263   \n",
              "6092             رأفة بها الدعاة الكرام           لبنان      247   \n",
              "990   أُنافقُ في الحياةِ، كفِعلِ غَيري،   العصر العباسي      117   \n",
              "\n",
              "               poet_name  label  \n",
              "7418  عبد الغني النابلسي      3  \n",
              "6455  عبد الغني النابلسي      3  \n",
              "7404  عبد الغني النابلسي      3  \n",
              "6092    جبران خليل جبران      2  \n",
              "990     أبوالعلاء المعري      0  "
            ]
          },
          "execution_count": 19,
          "metadata": {},
          "output_type": "execute_result"
        }
      ],
      "source": [
        "def label_index(x):\n",
        "  if x== 117: return 0\n",
        "  elif x== 173: return 1\n",
        "  elif x== 247: return 2\n",
        "  elif x== 263: return 3\n",
        "  elif x== 195: return 4\n",
        "  else: return 0\n",
        "\n",
        "new_df['label']=new_df['poet_id'].apply(lambda x: label_index(x))\n",
        "\n",
        "new_df.sample(5)\n",
        "\n",
        "\n",
        "\n"
      ]
    },
    {
      "cell_type": "code",
      "execution_count": 20,
      "metadata": {
        "id": "Lwpw6jxi2tML"
      },
      "outputs": [],
      "source": [
        "from sklearn.model_selection import train_test_split\n",
        "X_train, X_test, y_train, y_test = train_test_split(new_df['poem_text'],new_df['label'],test_size=0.15, stratify=new_df['label'])"
      ]
    },
    {
      "cell_type": "code",
      "execution_count": 21,
      "metadata": {
        "id": "C7cp9waqDtp6"
      },
      "outputs": [
        {
          "data": {
            "text/plain": [
              "\"'\\nNaive Bayes \\n\""
            ]
          },
          "execution_count": 21,
          "metadata": {},
          "output_type": "execute_result"
        }
      ],
      "source": [
        "''''\n",
        "Naive Bayes \n",
        "'''''"
      ]
    },
    {
      "cell_type": "code",
      "execution_count": 22,
      "metadata": {
        "id": "xaHz23axTZlJ"
      },
      "outputs": [],
      "source": [
        "import numpy as np, pandas as pd\n",
        "import seaborn as sns\n",
        "import matplotlib.pyplot as plt\n",
        "from sklearn.datasets import fetch_20newsgroups\n",
        "from sklearn.feature_extraction.text import TfidfVectorizer\n",
        "from sklearn.naive_bayes import MultinomialNB\n",
        "from sklearn.pipeline import make_pipeline\n",
        "from sklearn.metrics import confusion_matrix, accuracy_score\n",
        "sns.set() # use seaborn plotting style"
      ]
    },
    {
      "cell_type": "code",
      "execution_count": 23,
      "metadata": {
        "id": "ARz4G5ViTd3-"
      },
      "outputs": [],
      "source": [
        "# Build the model\n",
        "model = make_pipeline(TfidfVectorizer(), MultinomialNB())\n",
        "# Train the model using the training data\n",
        "model.fit(X_train, y_train)\n",
        "# Predict the categories of the test data\n",
        "predicted_categories = model.predict(X_test)"
      ]
    },
    {
      "cell_type": "code",
      "execution_count": 24,
      "metadata": {
        "colab": {
          "base_uri": "https://localhost:8080/"
        },
        "id": "q2J4KTl_Tghf",
        "outputId": "282f81cf-fae6-4eb5-cd59-6fdff5a6c744"
      },
      "outputs": [
        {
          "name": "stdout",
          "output_type": "stream",
          "text": [
            "[2 1 1 2 1 2 1 4 2 1 4 1 1 1 2 2 2 2 1 4 1 2 2 2 1 1 4 2 4 1 2 2 1 1 2 2 2\n",
            " 1 1 2 1 1 1 2 1 1 2 2 4 2 1 2 1 2 1 2 1 2 4 2 1 2 2 1 2 2 1 4 4 1 2 1 4 1\n",
            " 2 2 4 2 2 1 1 1 1 2 2 2 1 1 1 1 2 2 1 4 2 1 2 2 1 1 1 1 2 1 1 2 4 2 4 1 2\n",
            " 1 2 1 2 4 1 1 2 1 1 1 2 1 2 2 1 1 2 1 1 2 1 2 2 2 2 1 1 2 1 2 2 2 1 1 4 1\n",
            " 2 2 1 4 1 2 4 2 1 4 1 4 1 4 2 1 4 4 1 2 2 2 2 2 2 4 2 2 1 1 2 1 2 2 2 1 2\n",
            " 2 4 2 2 1 1 1 2 4 1 2 1 2 1 2 2 1 4 2 2 2 1 1 4 2 4 2 1 4 4 1 1 1 2 1 4 2\n",
            " 1 1 1 1 1 4 1 1 1 1 1 2 1 1 2 1 2 4 4 2 2 4 2 4 2 4 1 1 2 1 1 1 2 2 1 1 4\n",
            " 2 2 1 4 2 2 1 1 1 4 1 2 2 1 1 1 2 1 1 1 1 1 1 4 4 2 1 2 1 2 2 2 2 2 1 1 2\n",
            " 4 2 1 1 1 1 1 1 2 2 4 1 2 2 1 2 2 1 2 2 1 2 1 2 1 1 2 1 1 1 2 1 2 4 2 4 2\n",
            " 2 2 2 2 1 1 1 4 4 2 1 2 1 2 4 1 4 2 1 2 2 2 4 1 1 2 2 1 2 2 2 2 2 2 1 1 4\n",
            " 2 2 2 1 2 1 4 4 2 1 2 1 1 4 2 2 4 2 2 1 1 1 2 1 2 1 2 1 1 4 1 2 2 1 1 1 2\n",
            " 1 2 1 1 1 1 1 1 1 4 1 1 1 2 1 1 4 2 1 2 2 1 1 2 2 1 1 4 2 1 2 2 1 4 1 4 2\n",
            " 2 1 2 1 1 4 2 1 1 4 2 1 2 1 2 1 1 4 2 2 1 1 1 4 1 2 1 2 2 4 2 1 4 4 2 2 1\n",
            " 2 2 2 2 2 1 2 1 2 1 2 2 2 2 2 1 1 1 2 1 1 4 1 1 1 1 2 2 4 2 2 1 4 1 1 4 2\n",
            " 2 1 1 2 1 2 4 2 4 1 2 2 1 2 1 2 4 4 4 2 2 1 1 2 1 2 1 4 1 2 2 2 1 1 2 1 2\n",
            " 1 2 2 1 4 4 2 2 1 1 2 1 2 2 2 2 1 4 1 2 2 2 1 1 4 1 1 4 2 1 1 2 1 2 2 1 1\n",
            " 1 2 2 2 4 2 2 1 1 2 4 1 1 1 2 1 4 1 1 2 2 4 1 1 2 1 1 2 2 1 1 2 1 1 1 2 2\n",
            " 2 2 2 1 1 4 2 2 2 1 1 2 2 1 1 2 1 2 1 2 1 1 4 4 1 2 4 2 1 2 2 2 2 4 1 4 2\n",
            " 1 1 2 1 1 4 1 1 1 1 1 2 4 2 4 4 2 2 4 2 1 1 1 4 4 1 2 1 1 4 1 1 1 1 1 1 1\n",
            " 2 1 2 4 4 1 1 2 4 1 1 2 2 1 2 1 2 1 2 1 2 1 1 2 4 2 1 2 1 1 1 1 1 4 2 2 1\n",
            " 1 1 2 1 2 2 2 2 1 1 2 1 2 4 1 4 1 2 4 1 1 4 1 2 1 4 2 2 2 2 2 1 1 2 1 1 4\n",
            " 2 4 2 1 4 4 1 4 1 2 1 1 4 1 1 1 1 1 1 4 4 2 1 1 2 1 2 2 1 1 2 1 2 1 1 1 2\n",
            " 2 1 1 2 2 2 1 1 1 1 2 1 2 2 2 2 1 1 2 1 2 2]\n"
          ]
        }
      ],
      "source": [
        "print(np.array(y_test)[predicted_categories])\n",
        "##array(['rec.autos', 'sci.crypt', 'alt.atheism', ..., 'rec.sport.baseball', 'comp.sys.ibm.pc.hardware', 'soc.religion.christian'], dtype='<U24')"
      ]
    },
    {
      "cell_type": "code",
      "execution_count": 25,
      "metadata": {
        "colab": {
          "base_uri": "https://localhost:8080/"
        },
        "id": "zzEyzdXyTjiK",
        "outputId": "275561d8-0b70-4c16-bb28-3e1c265d8c29"
      },
      "outputs": [
        {
          "name": "stdout",
          "output_type": "stream",
          "text": [
            "The accuracy is 0.8026315789473685\n"
          ]
        }
      ],
      "source": [
        "# plot the confusion matrix\n",
        "mat = confusion_matrix(y_test, predicted_categories)\n",
        "#sns.heatmap(mat.T, square = True, annot=True, fmt = \"d\", xticklabels=y_train,yticklabels=y_train)\n",
        "#plt.xlabel(\"true labels\")\n",
        "#plt.ylabel(\"predicted label\")\n",
        "#plt.show()\n",
        "print(\"The accuracy is {}\".format(accuracy_score(y_test, predicted_categories)))"
      ]
    },
    {
      "cell_type": "code",
      "execution_count": 26,
      "metadata": {
        "colab": {
          "base_uri": "https://localhost:8080/",
          "height": 37
        },
        "id": "eSypPyfsDmGp",
        "outputId": "5b136a02-1c04-4850-fa7d-ed0fb635fcd0"
      },
      "outputs": [
        {
          "data": {
            "text/plain": [
              "\"'\\nSVM \\n\""
            ]
          },
          "execution_count": 26,
          "metadata": {},
          "output_type": "execute_result"
        }
      ],
      "source": [
        "''''\n",
        "SVM \n",
        "'''''\n"
      ]
    },
    {
      "cell_type": "code",
      "execution_count": 27,
      "metadata": {
        "colab": {
          "base_uri": "https://localhost:8080/",
          "height": 375
        },
        "id": "JRHPKI8OTwhq",
        "outputId": "0a0bdca7-2ed1-460e-bca7-352c1873b730"
      },
      "outputs": [],
      "source": [
        "import sklearn\n",
        "import numpy as np\n",
        "import pandas as pd\n",
        "\n",
        "\n",
        "from sklearn.feature_extraction.text import CountVectorizer\n",
        "\n",
        "vectorizer = CountVectorizer(binary=True)\n",
        "\n",
        "# learn a vocabulary dictionary of all tokens in the raw documents\n",
        "vectorizer.fit(list(X_train) + list(X_test))\n",
        "\n",
        "# transform documents to document-term matrix\n",
        "X_train = vectorizer.transform(X_train)\n",
        "X_test = vectorizer.transform(X_test)"
      ]
    },
    {
      "cell_type": "code",
      "execution_count": 28,
      "metadata": {
        "id": "gAjKtGPoBSJF"
      },
      "outputs": [],
      "source": [
        "from sklearn import svm\n",
        "# classify using support vector classifier\n",
        "svm = svm.SVC(kernel = 'linear', probability=True)\n",
        "\n",
        "# fit the SVC model based on the given training data\n",
        "prob = svm.fit(X_train, y_train).predict_proba(X_test)\n",
        "\n",
        "# perform classification and prediction on samples in x_test\n",
        "y_pred_svm = svm.predict(X_test)\n"
      ]
    },
    {
      "cell_type": "code",
      "execution_count": 29,
      "metadata": {
        "colab": {
          "base_uri": "https://localhost:8080/"
        },
        "id": "GVyH_UFvBYEt",
        "outputId": "f5aad2c9-4d2c-47da-9b14-7afa5831622e"
      },
      "outputs": [
        {
          "name": "stdout",
          "output_type": "stream",
          "text": [
            "Accuracy score for SVC is:  74.04306220095694 %\n"
          ]
        }
      ],
      "source": [
        "\n",
        "from sklearn.metrics import accuracy_score\n",
        "print(\"Accuracy score for SVC is: \", accuracy_score(y_test, y_pred_svm) * 100, '%')\n"
      ]
    }
  ],
  "metadata": {
    "colab": {
      "name": "NaiveBayes/SVM.ipynb",
      "provenance": []
    },
    "kernelspec": {
      "display_name": "Python 3",
      "name": "python3"
    },
    "language_info": {
      "codemirror_mode": {
        "name": "ipython",
        "version": 3
      },
      "file_extension": ".py",
      "mimetype": "text/x-python",
      "name": "python",
      "nbconvert_exporter": "python",
      "pygments_lexer": "ipython3",
      "version": "3.9.7"
    }
  },
  "nbformat": 4,
  "nbformat_minor": 0
}
